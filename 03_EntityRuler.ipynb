{
  "nbformat": 4,
  "nbformat_minor": 0,
  "metadata": {
    "colab": {
      "provenance": [],
      "authorship_tag": "ABX9TyN4D5W30SdPKS74ue4gJjSr",
      "include_colab_link": true
    },
    "kernelspec": {
      "name": "python3",
      "display_name": "Python 3"
    },
    "language_info": {
      "name": "python"
    }
  },
  "cells": [
    {
      "cell_type": "markdown",
      "metadata": {
        "id": "view-in-github",
        "colab_type": "text"
      },
      "source": [
        "<a href=\"https://colab.research.google.com/github/asotjrs/Spacy-NLP/blob/main/03_EntityRuler.ipynb\" target=\"_parent\"><img src=\"https://colab.research.google.com/assets/colab-badge.svg\" alt=\"Open In Colab\"/></a>"
      ]
    },
    {
      "cell_type": "markdown",
      "source": [
        "#Entity Ruler \n",
        "src: https://www.youtube.com/watch?v=dIUTsFT2MeQ"
      ],
      "metadata": {
        "id": "d4k9LeBawHif"
      }
    },
    {
      "cell_type": "code",
      "execution_count": 7,
      "metadata": {
        "colab": {
          "base_uri": "https://localhost:8080/"
        },
        "id": "KyUBFvD3WJkw",
        "outputId": "c689dde7-bf16-456f-aa2b-d004b11c482c"
      },
      "outputs": [
        {
          "output_type": "stream",
          "name": "stdout",
          "text": [
            "Treblinka GPE\n",
            "Poland GPE\n"
          ]
        }
      ],
      "source": [
        "#The purpose of this EntityRuler will be to identify small villages in Poland correctly.\n",
        "#Import the requisite library\n",
        "import spacy\n",
        "\n",
        "#Build upon the spaCy Small Model\n",
        "nlp = spacy.load(\"en_core_web_sm\")\n",
        "\n",
        "#Sample text\n",
        "text = \"The village of Treblinka is in Poland. Treblinka was also an extermination camp.\"\n",
        "\n",
        "#Create the Doc object\n",
        "doc = nlp(text)\n",
        "\n",
        "#extract entities\n",
        "for ent in doc.ents:\n",
        "    print (ent.text, ent.label_)"
      ]
    },
    {
      "cell_type": "markdown",
      "source": [
        "Teching the model to correctly identigying the second NER"
      ],
      "metadata": {
        "id": "PeFunKVnnRAD"
      }
    },
    {
      "cell_type": "code",
      "source": [
        "#Import the requisite library\n",
        "import spacy\n",
        "\n",
        "#Build upon the spaCy Small Model\n",
        "nlp = spacy.load(\"en_core_web_sm\")\n",
        "\n",
        "#Sample text\n",
        "text = \"The village of Treblinka is in Poland. Treblinka was also an extermination camp.\"\n",
        "\n",
        "#Create the EntityRuler\n",
        "ruler = nlp.add_pipe(\"entity_ruler\")\n",
        "\n",
        "#List of Entities and Patterns\n",
        "patterns = [\n",
        "                {\"label\": \"GPE\", \"pattern\": \"Treblinka\"}\n",
        "            ]\n",
        "\n",
        "ruler.add_patterns(patterns)\n",
        "\n",
        "\n",
        "doc = nlp(text)\n",
        "\n",
        "#extract entities\n",
        "for ent in doc.ents:\n",
        "    print (ent.text, ent.label_)"
      ],
      "metadata": {
        "colab": {
          "base_uri": "https://localhost:8080/"
        },
        "id": "eIZUOpoDgA43",
        "outputId": "9ad8dcf1-9fd6-4094-f7ba-8e6d93958afc"
      },
      "execution_count": 9,
      "outputs": [
        {
          "output_type": "stream",
          "name": "stdout",
          "text": [
            "Treblinka GPE\n",
            "Poland GPE\n",
            "Treblinka GPE\n"
          ]
        }
      ]
    },
    {
      "cell_type": "markdown",
      "source": [
        "Nb: the sm model has been updated to extract the correct results this is why its showing the correct results without any additional step"
      ],
      "metadata": {
        "id": "svUnSzqGvomM"
      }
    },
    {
      "cell_type": "code",
      "source": [
        "nlp.analyze_pipes()"
      ],
      "metadata": {
        "colab": {
          "base_uri": "https://localhost:8080/"
        },
        "id": "UG--bmNNniwc",
        "outputId": "f6f0110a-72ba-4925-c5b3-088fc11b7dbb"
      },
      "execution_count": 10,
      "outputs": [
        {
          "output_type": "execute_result",
          "data": {
            "text/plain": [
              "{'summary': {'tok2vec': {'assigns': ['doc.tensor'],\n",
              "   'requires': [],\n",
              "   'scores': [],\n",
              "   'retokenizes': False},\n",
              "  'tagger': {'assigns': ['token.tag'],\n",
              "   'requires': [],\n",
              "   'scores': ['tag_acc'],\n",
              "   'retokenizes': False},\n",
              "  'parser': {'assigns': ['token.dep',\n",
              "    'token.head',\n",
              "    'token.is_sent_start',\n",
              "    'doc.sents'],\n",
              "   'requires': [],\n",
              "   'scores': ['dep_uas',\n",
              "    'dep_las',\n",
              "    'dep_las_per_type',\n",
              "    'sents_p',\n",
              "    'sents_r',\n",
              "    'sents_f'],\n",
              "   'retokenizes': False},\n",
              "  'attribute_ruler': {'assigns': [],\n",
              "   'requires': [],\n",
              "   'scores': [],\n",
              "   'retokenizes': False},\n",
              "  'lemmatizer': {'assigns': ['token.lemma'],\n",
              "   'requires': [],\n",
              "   'scores': ['lemma_acc'],\n",
              "   'retokenizes': False},\n",
              "  'ner': {'assigns': ['doc.ents', 'token.ent_iob', 'token.ent_type'],\n",
              "   'requires': [],\n",
              "   'scores': ['ents_f', 'ents_p', 'ents_r', 'ents_per_type'],\n",
              "   'retokenizes': False},\n",
              "  'entity_ruler': {'assigns': ['doc.ents', 'token.ent_type', 'token.ent_iob'],\n",
              "   'requires': [],\n",
              "   'scores': ['ents_f', 'ents_p', 'ents_r', 'ents_per_type'],\n",
              "   'retokenizes': False}},\n",
              " 'problems': {'tok2vec': [],\n",
              "  'tagger': [],\n",
              "  'parser': [],\n",
              "  'attribute_ruler': [],\n",
              "  'lemmatizer': [],\n",
              "  'ner': [],\n",
              "  'entity_ruler': []},\n",
              " 'attrs': {'doc.ents': {'assigns': ['ner', 'entity_ruler'], 'requires': []},\n",
              "  'token.tag': {'assigns': ['tagger'], 'requires': []},\n",
              "  'token.lemma': {'assigns': ['lemmatizer'], 'requires': []},\n",
              "  'doc.tensor': {'assigns': ['tok2vec'], 'requires': []},\n",
              "  'token.ent_iob': {'assigns': ['ner', 'entity_ruler'], 'requires': []},\n",
              "  'token.ent_type': {'assigns': ['ner', 'entity_ruler'], 'requires': []},\n",
              "  'token.dep': {'assigns': ['parser'], 'requires': []},\n",
              "  'doc.sents': {'assigns': ['parser'], 'requires': []},\n",
              "  'token.is_sent_start': {'assigns': ['parser'], 'requires': []},\n",
              "  'token.head': {'assigns': ['parser'], 'requires': []}}}"
            ]
          },
          "metadata": {},
          "execution_count": 10
        }
      ]
    },
    {
      "cell_type": "markdown",
      "source": [
        "If we locate “ner”, we notice that “entity_ruler” sits behind it.\n",
        "\n",
        "In order for our EntityRuler to have primacy, we have to assign it to after the “ner” pipe, as the example below shows in this line:\n",
        "\n",
        "ruler = nlp.add_pipe(“entity_ruler”, after=”ner”)"
      ],
      "metadata": {
        "id": "mBlT6rwXtpxP"
      }
    },
    {
      "cell_type": "code",
      "source": [
        "#Build upon the spaCy Small Model\n",
        "nlp = spacy.load(\"en_core_web_sm\")\n",
        "\n",
        "#Sample text\n",
        "text = \"The village of Treblinka is in Poland. Treblinka was also an extermination camp.\"\n",
        "\n",
        "#Create the EntityRuler\n",
        "ruler = nlp.add_pipe(\"entity_ruler\", after=\"ner\")\n",
        "\n",
        "#List of Entities and Patterns\n",
        "patterns = [\n",
        "                {\"label\": \"GPE\", \"pattern\": \"Treblinka\"}\n",
        "            ]\n",
        "\n",
        "ruler.add_patterns(patterns)\n",
        "\n",
        "\n",
        "doc = nlp(text)\n",
        "\n",
        "#extract entities\n",
        "for ent in doc.ents:\n",
        "    print (ent.text, ent.label_)"
      ],
      "metadata": {
        "colab": {
          "base_uri": "https://localhost:8080/"
        },
        "id": "KfIYQQx8n0vd",
        "outputId": "4554542d-454e-4c83-b668-8278cc1a36ed"
      },
      "execution_count": 11,
      "outputs": [
        {
          "output_type": "stream",
          "name": "stdout",
          "text": [
            "Treblinka GPE\n",
            "Poland GPE\n",
            "Treblinka GPE\n"
          ]
        }
      ]
    },
    {
      "cell_type": "markdown",
      "source": [
        "##Advanced\n",
        "example from the spaCy documentation in which we extract a phone number from a text. "
      ],
      "metadata": {
        "id": "WjEPNbWSzpKS"
      }
    },
    {
      "cell_type": "code",
      "source": [
        "#Import the requisite library\n",
        "import spacy\n",
        "\n",
        "#Sample text\n",
        "text = \"This is a sample number (555) 555-5555.\"\n",
        "\n",
        "#Build upon the spaCy Small Model\n",
        "nlp = spacy.blank(\"en\")\n",
        "\n",
        "#Create the Ruler and Add it\n",
        "ruler = nlp.add_pipe(\"entity_ruler\")\n",
        "#List of Entities and Patterns (source: https://spacy.io/usage/rule-based-matching)\n",
        "patterns = [\n",
        "                {\"label\": \"PHONE_NUMBER\", \"pattern\": [{\"ORTH\": \"(\"}, {\"SHAPE\": \"ddd\"}, {\"ORTH\": \")\"}, {\"SHAPE\": \"ddd\"},\n",
        "                {\"ORTH\": \"-\", \"OP\": \"?\"}, {\"SHAPE\": \"dddd\"}]}\n",
        "            ]\n",
        "#add patterns to ruler\n",
        "ruler.add_patterns(patterns)\n"
      ],
      "metadata": {
        "id": "_tiQbUlQzpCS"
      },
      "execution_count": 20,
      "outputs": []
    },
    {
      "cell_type": "code",
      "source": [
        "\n",
        "#create the doc\n",
        "doc = nlp(text)\n",
        "\n",
        "#extract entities\n",
        "for ent in doc.ents:\n",
        "    print (ent.text, ent.label_)"
      ],
      "metadata": {
        "colab": {
          "base_uri": "https://localhost:8080/"
        },
        "id": "Er7p5SGd0pR7",
        "outputId": "ae25b391-5d57-480b-8bf6-d536833177b9"
      },
      "execution_count": 21,
      "outputs": [
        {
          "output_type": "stream",
          "name": "stdout",
          "text": [
            "(555) 555-5555 PHONE_NUMBER\n"
          ]
        }
      ]
    },
    {
      "cell_type": "code",
      "source": [
        "nlp.analyze_pipes()"
      ],
      "metadata": {
        "colab": {
          "base_uri": "https://localhost:8080/"
        },
        "id": "f1jYRLskz6xZ",
        "outputId": "9375c2e3-33fa-4a91-a759-ff118350f629"
      },
      "execution_count": 22,
      "outputs": [
        {
          "output_type": "execute_result",
          "data": {
            "text/plain": [
              "{'summary': {'entity_ruler': {'assigns': ['doc.ents',\n",
              "    'token.ent_type',\n",
              "    'token.ent_iob'],\n",
              "   'requires': [],\n",
              "   'scores': ['ents_f', 'ents_p', 'ents_r', 'ents_per_type'],\n",
              "   'retokenizes': False}},\n",
              " 'problems': {'entity_ruler': []},\n",
              " 'attrs': {'doc.ents': {'assigns': ['entity_ruler'], 'requires': []},\n",
              "  'token.ent_iob': {'assigns': ['entity_ruler'], 'requires': []},\n",
              "  'token.ent_type': {'assigns': ['entity_ruler'], 'requires': []}}}"
            ]
          },
          "metadata": {},
          "execution_count": 22
        }
      ]
    }
  ]
}